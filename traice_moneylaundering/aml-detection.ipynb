{
 "cells": [
  {
   "cell_type": "markdown",
   "metadata": {
    "_cell_guid": "725352dc-2e25-473d-a594-4095647b978c",
    "_execution_state": "idle",
    "_uuid": "6a0295e5a3d650b4e2fd26a55281b6379e4f23d0"
   },
   "source": [
    "SVM Linear Kernal "
   ]
  },
  {
   "cell_type": "code",
   "execution_count": 9,
   "metadata": {
    "_cell_guid": "e0bde41d-0e1f-4a2a-b346-10bf58c377bc",
    "_execution_state": "idle",
    "_uuid": "c0e28a682c295d509d2507d0aef0abe0a4591c97"
   },
   "outputs": [],
   "source": [
    "# This Python 3 environment comes with many helpful analytics libraries installed\n",
    "# It is defined by the kaggle/python docker image: https://github.com/kaggle/docker-python\n",
    "# For example, here's several helpful packages to load in \n",
    "\n",
    "import numpy as np\n",
    "import matplotlib.pyplot as plt\n",
    "import pandas as pd\n",
    "import random\n",
    "\n",
    "\n",
    "# Importing the dataset\n",
    "dataset = pd.read_csv('/Users/fabianreginold/Downloads/traice/traice_moneylaundering/PS_20174392719_1491204439457_log.csv')\n",
    "dataset.drop('nameOrig', axis=1, inplace=True)\n",
    "dataset.drop('nameDest', axis=1, inplace=True)\n",
    "dataset.drop('isFlaggedFraud', axis=1, inplace=True)"
   ]
  },
  {
   "cell_type": "code",
   "execution_count": 10,
   "metadata": {},
   "outputs": [
    {
     "data": {
      "text/plain": [
       "{'step': 0            1\n",
       " 1            1\n",
       " 2            1\n",
       " 3            1\n",
       " 4            1\n",
       "           ... \n",
       " 6362615    743\n",
       " 6362616    743\n",
       " 6362617    743\n",
       " 6362618    743\n",
       " 6362619    743\n",
       " Name: step, Length: 6362620, dtype: int64,\n",
       " 'type': 0           PAYMENT\n",
       " 1           PAYMENT\n",
       " 2          TRANSFER\n",
       " 3          CASH_OUT\n",
       " 4           PAYMENT\n",
       "              ...   \n",
       " 6362615    CASH_OUT\n",
       " 6362616    TRANSFER\n",
       " 6362617    CASH_OUT\n",
       " 6362618    TRANSFER\n",
       " 6362619    CASH_OUT\n",
       " Name: type, Length: 6362620, dtype: object,\n",
       " 'amount': 0             9839.64\n",
       " 1             1864.28\n",
       " 2              181.00\n",
       " 3              181.00\n",
       " 4            11668.14\n",
       "               ...    \n",
       " 6362615     339682.13\n",
       " 6362616    6311409.28\n",
       " 6362617    6311409.28\n",
       " 6362618     850002.52\n",
       " 6362619     850002.52\n",
       " Name: amount, Length: 6362620, dtype: float64,\n",
       " 'oldbalanceOrg': 0           170136.00\n",
       " 1            21249.00\n",
       " 2              181.00\n",
       " 3              181.00\n",
       " 4            41554.00\n",
       "               ...    \n",
       " 6362615     339682.13\n",
       " 6362616    6311409.28\n",
       " 6362617    6311409.28\n",
       " 6362618     850002.52\n",
       " 6362619     850002.52\n",
       " Name: oldbalanceOrg, Length: 6362620, dtype: float64,\n",
       " 'newbalanceOrig': 0          160296.36\n",
       " 1           19384.72\n",
       " 2               0.00\n",
       " 3               0.00\n",
       " 4           29885.86\n",
       "              ...    \n",
       " 6362615         0.00\n",
       " 6362616         0.00\n",
       " 6362617         0.00\n",
       " 6362618         0.00\n",
       " 6362619         0.00\n",
       " Name: newbalanceOrig, Length: 6362620, dtype: float64,\n",
       " 'oldbalanceDest': 0                0.00\n",
       " 1                0.00\n",
       " 2                0.00\n",
       " 3            21182.00\n",
       " 4                0.00\n",
       "               ...    \n",
       " 6362615          0.00\n",
       " 6362616          0.00\n",
       " 6362617      68488.84\n",
       " 6362618          0.00\n",
       " 6362619    6510099.11\n",
       " Name: oldbalanceDest, Length: 6362620, dtype: float64,\n",
       " 'newbalanceDest': 0                0.00\n",
       " 1                0.00\n",
       " 2                0.00\n",
       " 3                0.00\n",
       " 4                0.00\n",
       "               ...    \n",
       " 6362615     339682.13\n",
       " 6362616          0.00\n",
       " 6362617    6379898.11\n",
       " 6362618          0.00\n",
       " 6362619    7360101.63\n",
       " Name: newbalanceDest, Length: 6362620, dtype: float64,\n",
       " 'isFraud': 0          0\n",
       " 1          0\n",
       " 2          1\n",
       " 3          1\n",
       " 4          0\n",
       "           ..\n",
       " 6362615    1\n",
       " 6362616    1\n",
       " 6362617    1\n",
       " 6362618    1\n",
       " 6362619    1\n",
       " Name: isFraud, Length: 6362620, dtype: int64}"
      ]
     },
     "execution_count": 10,
     "metadata": {},
     "output_type": "execute_result"
    }
   ],
   "source": [
    "dict(dataset)"
   ]
  },
  {
   "cell_type": "code",
   "execution_count": 11,
   "metadata": {},
   "outputs": [
    {
     "data": {
      "text/plain": [
       "array(['PAYMENT', 'TRANSFER', 'CASH_OUT', 'DEBIT', 'CASH_IN'],\n",
       "      dtype=object)"
      ]
     },
     "execution_count": 11,
     "metadata": {},
     "output_type": "execute_result"
    }
   ],
   "source": [
    "\n",
    "dataset.type.unique()"
   ]
  },
  {
   "cell_type": "code",
   "execution_count": 12,
   "metadata": {
    "_cell_guid": "2203b9f1-2b92-4523-858a-ea0cc5f7989e",
    "_execution_state": "idle",
    "_uuid": "a1954290ef4021db2c0cbc439d2fd713eb2004e2"
   },
   "outputs": [
    {
     "data": {
      "text/html": [
       "<div>\n",
       "<style scoped>\n",
       "    .dataframe tbody tr th:only-of-type {\n",
       "        vertical-align: middle;\n",
       "    }\n",
       "\n",
       "    .dataframe tbody tr th {\n",
       "        vertical-align: top;\n",
       "    }\n",
       "\n",
       "    .dataframe thead th {\n",
       "        text-align: right;\n",
       "    }\n",
       "</style>\n",
       "<table border=\"1\" class=\"dataframe\">\n",
       "  <thead>\n",
       "    <tr style=\"text-align: right;\">\n",
       "      <th></th>\n",
       "      <th>step</th>\n",
       "      <th>type</th>\n",
       "      <th>amount</th>\n",
       "      <th>oldbalanceOrg</th>\n",
       "      <th>newbalanceOrig</th>\n",
       "      <th>oldbalanceDest</th>\n",
       "      <th>newbalanceDest</th>\n",
       "      <th>isFraud</th>\n",
       "    </tr>\n",
       "  </thead>\n",
       "  <tbody>\n",
       "    <tr>\n",
       "      <th>6303116</th>\n",
       "      <td>683</td>\n",
       "      <td>CASH_OUT</td>\n",
       "      <td>93483.23</td>\n",
       "      <td>93483.23</td>\n",
       "      <td>0.00</td>\n",
       "      <td>86882.30</td>\n",
       "      <td>180365.53</td>\n",
       "      <td>1</td>\n",
       "    </tr>\n",
       "    <tr>\n",
       "      <th>3960303</th>\n",
       "      <td>294</td>\n",
       "      <td>CASH_OUT</td>\n",
       "      <td>806863.30</td>\n",
       "      <td>806863.30</td>\n",
       "      <td>0.00</td>\n",
       "      <td>2344186.16</td>\n",
       "      <td>3151049.45</td>\n",
       "      <td>1</td>\n",
       "    </tr>\n",
       "    <tr>\n",
       "      <th>2736446</th>\n",
       "      <td>212</td>\n",
       "      <td>TRANSFER</td>\n",
       "      <td>4953893.08</td>\n",
       "      <td>4953893.08</td>\n",
       "      <td>4953893.08</td>\n",
       "      <td>0.00</td>\n",
       "      <td>0.00</td>\n",
       "      <td>1</td>\n",
       "    </tr>\n",
       "    <tr>\n",
       "      <th>1030272</th>\n",
       "      <td>51</td>\n",
       "      <td>CASH_OUT</td>\n",
       "      <td>1170282.92</td>\n",
       "      <td>1170282.92</td>\n",
       "      <td>0.00</td>\n",
       "      <td>173264.14</td>\n",
       "      <td>1343547.06</td>\n",
       "      <td>1</td>\n",
       "    </tr>\n",
       "    <tr>\n",
       "      <th>1212611</th>\n",
       "      <td>133</td>\n",
       "      <td>CASH_OUT</td>\n",
       "      <td>1159010.44</td>\n",
       "      <td>1159010.44</td>\n",
       "      <td>0.00</td>\n",
       "      <td>175085.52</td>\n",
       "      <td>1334095.97</td>\n",
       "      <td>1</td>\n",
       "    </tr>\n",
       "    <tr>\n",
       "      <th>...</th>\n",
       "      <td>...</td>\n",
       "      <td>...</td>\n",
       "      <td>...</td>\n",
       "      <td>...</td>\n",
       "      <td>...</td>\n",
       "      <td>...</td>\n",
       "      <td>...</td>\n",
       "      <td>...</td>\n",
       "    </tr>\n",
       "    <tr>\n",
       "      <th>6122464</th>\n",
       "      <td>540</td>\n",
       "      <td>CASH_OUT</td>\n",
       "      <td>3707342.38</td>\n",
       "      <td>3707342.38</td>\n",
       "      <td>0.00</td>\n",
       "      <td>558618.20</td>\n",
       "      <td>4265960.58</td>\n",
       "      <td>1</td>\n",
       "    </tr>\n",
       "    <tr>\n",
       "      <th>6273168</th>\n",
       "      <td>633</td>\n",
       "      <td>TRANSFER</td>\n",
       "      <td>125107.12</td>\n",
       "      <td>125107.12</td>\n",
       "      <td>0.00</td>\n",
       "      <td>0.00</td>\n",
       "      <td>0.00</td>\n",
       "      <td>1</td>\n",
       "    </tr>\n",
       "    <tr>\n",
       "      <th>6008702</th>\n",
       "      <td>438</td>\n",
       "      <td>TRANSFER</td>\n",
       "      <td>1648547.69</td>\n",
       "      <td>1648547.69</td>\n",
       "      <td>0.00</td>\n",
       "      <td>0.00</td>\n",
       "      <td>0.00</td>\n",
       "      <td>1</td>\n",
       "    </tr>\n",
       "    <tr>\n",
       "      <th>6168680</th>\n",
       "      <td>557</td>\n",
       "      <td>CASH_OUT</td>\n",
       "      <td>3571807.73</td>\n",
       "      <td>3571807.73</td>\n",
       "      <td>0.00</td>\n",
       "      <td>527694.86</td>\n",
       "      <td>4099502.59</td>\n",
       "      <td>1</td>\n",
       "    </tr>\n",
       "    <tr>\n",
       "      <th>3739782</th>\n",
       "      <td>278</td>\n",
       "      <td>CASH_OUT</td>\n",
       "      <td>240580.40</td>\n",
       "      <td>240580.40</td>\n",
       "      <td>0.00</td>\n",
       "      <td>0.00</td>\n",
       "      <td>240580.40</td>\n",
       "      <td>1</td>\n",
       "    </tr>\n",
       "  </tbody>\n",
       "</table>\n",
       "<p>141 rows × 8 columns</p>\n",
       "</div>"
      ],
      "text/plain": [
       "         step      type      amount  oldbalanceOrg  newbalanceOrig  \\\n",
       "6303116   683  CASH_OUT    93483.23       93483.23            0.00   \n",
       "3960303   294  CASH_OUT   806863.30      806863.30            0.00   \n",
       "2736446   212  TRANSFER  4953893.08     4953893.08      4953893.08   \n",
       "1030272    51  CASH_OUT  1170282.92     1170282.92            0.00   \n",
       "1212611   133  CASH_OUT  1159010.44     1159010.44            0.00   \n",
       "...       ...       ...         ...            ...             ...   \n",
       "6122464   540  CASH_OUT  3707342.38     3707342.38            0.00   \n",
       "6273168   633  TRANSFER   125107.12      125107.12            0.00   \n",
       "6008702   438  TRANSFER  1648547.69     1648547.69            0.00   \n",
       "6168680   557  CASH_OUT  3571807.73     3571807.73            0.00   \n",
       "3739782   278  CASH_OUT   240580.40      240580.40            0.00   \n",
       "\n",
       "         oldbalanceDest  newbalanceDest  isFraud  \n",
       "6303116        86882.30       180365.53        1  \n",
       "3960303      2344186.16      3151049.45        1  \n",
       "2736446            0.00            0.00        1  \n",
       "1030272       173264.14      1343547.06        1  \n",
       "1212611       175085.52      1334095.97        1  \n",
       "...                 ...             ...      ...  \n",
       "6122464       558618.20      4265960.58        1  \n",
       "6273168            0.00            0.00        1  \n",
       "6008702            0.00            0.00        1  \n",
       "6168680       527694.86      4099502.59        1  \n",
       "3739782            0.00       240580.40        1  \n",
       "\n",
       "[141 rows x 8 columns]"
      ]
     },
     "execution_count": 12,
     "metadata": {},
     "output_type": "execute_result"
    }
   ],
   "source": [
    "sample_dataframe = dataset.sample(random_state=42,n=100000)\n",
    "sample_dataframe[sample_dataframe['isFraud']==1]"
   ]
  },
  {
   "cell_type": "code",
   "execution_count": 13,
   "metadata": {},
   "outputs": [
    {
     "data": {
      "text/plain": [
       "array(['CASH_IN', 'PAYMENT', 'TRANSFER', 'CASH_OUT', 'DEBIT'],\n",
       "      dtype=object)"
      ]
     },
     "execution_count": 13,
     "metadata": {},
     "output_type": "execute_result"
    }
   ],
   "source": [
    "X=sample_dataframe\n",
    "unique_types=X['type'].unique()\n",
    "unique_types"
   ]
  },
  {
   "cell_type": "code",
   "execution_count": 14,
   "metadata": {},
   "outputs": [
    {
     "data": {
      "text/html": [
       "<div>\n",
       "<style scoped>\n",
       "    .dataframe tbody tr th:only-of-type {\n",
       "        vertical-align: middle;\n",
       "    }\n",
       "\n",
       "    .dataframe tbody tr th {\n",
       "        vertical-align: top;\n",
       "    }\n",
       "\n",
       "    .dataframe thead th {\n",
       "        text-align: right;\n",
       "    }\n",
       "</style>\n",
       "<table border=\"1\" class=\"dataframe\">\n",
       "  <thead>\n",
       "    <tr style=\"text-align: right;\">\n",
       "      <th></th>\n",
       "      <th>step</th>\n",
       "      <th>amount</th>\n",
       "      <th>oldbalanceOrg</th>\n",
       "      <th>newbalanceOrig</th>\n",
       "      <th>oldbalanceDest</th>\n",
       "      <th>newbalanceDest</th>\n",
       "      <th>isFraud</th>\n",
       "      <th>CASH_IN</th>\n",
       "      <th>PAYMENT</th>\n",
       "      <th>TRANSFER</th>\n",
       "      <th>CASH_OUT</th>\n",
       "      <th>DEBIT</th>\n",
       "    </tr>\n",
       "  </thead>\n",
       "  <tbody>\n",
       "    <tr>\n",
       "      <th>3737323</th>\n",
       "      <td>278</td>\n",
       "      <td>330218.42</td>\n",
       "      <td>20866.00</td>\n",
       "      <td>351084.42</td>\n",
       "      <td>452419.57</td>\n",
       "      <td>122201.15</td>\n",
       "      <td>0</td>\n",
       "      <td>1</td>\n",
       "      <td>0</td>\n",
       "      <td>0</td>\n",
       "      <td>0</td>\n",
       "      <td>0</td>\n",
       "    </tr>\n",
       "    <tr>\n",
       "      <th>264914</th>\n",
       "      <td>15</td>\n",
       "      <td>11647.08</td>\n",
       "      <td>30370.00</td>\n",
       "      <td>18722.92</td>\n",
       "      <td>0.00</td>\n",
       "      <td>0.00</td>\n",
       "      <td>0</td>\n",
       "      <td>0</td>\n",
       "      <td>1</td>\n",
       "      <td>0</td>\n",
       "      <td>0</td>\n",
       "      <td>0</td>\n",
       "    </tr>\n",
       "    <tr>\n",
       "      <th>85647</th>\n",
       "      <td>10</td>\n",
       "      <td>152264.21</td>\n",
       "      <td>106589.00</td>\n",
       "      <td>258853.21</td>\n",
       "      <td>201303.01</td>\n",
       "      <td>49038.80</td>\n",
       "      <td>0</td>\n",
       "      <td>1</td>\n",
       "      <td>0</td>\n",
       "      <td>0</td>\n",
       "      <td>0</td>\n",
       "      <td>0</td>\n",
       "    </tr>\n",
       "    <tr>\n",
       "      <th>5899326</th>\n",
       "      <td>403</td>\n",
       "      <td>1551760.63</td>\n",
       "      <td>0.00</td>\n",
       "      <td>0.00</td>\n",
       "      <td>3198359.45</td>\n",
       "      <td>4750120.08</td>\n",
       "      <td>0</td>\n",
       "      <td>0</td>\n",
       "      <td>0</td>\n",
       "      <td>1</td>\n",
       "      <td>0</td>\n",
       "      <td>0</td>\n",
       "    </tr>\n",
       "    <tr>\n",
       "      <th>2544263</th>\n",
       "      <td>206</td>\n",
       "      <td>78172.30</td>\n",
       "      <td>2921331.58</td>\n",
       "      <td>2999503.88</td>\n",
       "      <td>415821.90</td>\n",
       "      <td>337649.60</td>\n",
       "      <td>0</td>\n",
       "      <td>1</td>\n",
       "      <td>0</td>\n",
       "      <td>0</td>\n",
       "      <td>0</td>\n",
       "      <td>0</td>\n",
       "    </tr>\n",
       "  </tbody>\n",
       "</table>\n",
       "</div>"
      ],
      "text/plain": [
       "         step      amount  oldbalanceOrg  newbalanceOrig  oldbalanceDest  \\\n",
       "3737323   278   330218.42       20866.00       351084.42       452419.57   \n",
       "264914     15    11647.08       30370.00        18722.92            0.00   \n",
       "85647      10   152264.21      106589.00       258853.21       201303.01   \n",
       "5899326   403  1551760.63           0.00            0.00      3198359.45   \n",
       "2544263   206    78172.30     2921331.58      2999503.88       415821.90   \n",
       "\n",
       "         newbalanceDest  isFraud  CASH_IN  PAYMENT  TRANSFER  CASH_OUT  DEBIT  \n",
       "3737323       122201.15        0        1        0         0         0      0  \n",
       "264914             0.00        0        0        1         0         0      0  \n",
       "85647          49038.80        0        1        0         0         0      0  \n",
       "5899326      4750120.08        0        0        0         1         0      0  \n",
       "2544263       337649.60        0        1        0         0         0      0  "
      ]
     },
     "execution_count": 14,
     "metadata": {},
     "output_type": "execute_result"
    }
   ],
   "source": [
    "#one hot encoding using pd dummies\n",
    "for each_categorical_value in X['type'].unique():\n",
    "    X[each_categorical_value] = pd.get_dummies(X['type'])[each_categorical_value]\n",
    "    \n",
    "#X['CASH_IN'] = pd.get_dummies(X['type'])['CASH_IN']\n",
    "#X['CASH_OUT'] = pd.get_dummies(X['type'])['CASH_OUT']\n",
    "#X['DEBIT'] = pd.get_dummies(X['type'])['DEBIT']\n",
    "#['PAYMENT'] = pd.get_dummies(X['type'])['PAYMENT']\n",
    "#X['TRANSFER'] = pd.get_dummies(X['type'])['TRANSFER']\n",
    "#X.drop('CASH_IN',axis=True,inplace=True)\n",
    "X.drop('type',axis=True,inplace=True)\n",
    "X.head()"
   ]
  },
  {
   "cell_type": "code",
   "execution_count": 15,
   "metadata": {},
   "outputs": [
    {
     "data": {
      "text/plain": [
       "array([0, 0, 0, ..., 0, 0, 0])"
      ]
     },
     "execution_count": 15,
     "metadata": {},
     "output_type": "execute_result"
    }
   ],
   "source": [
    "X = sample_dataframe.iloc[:, [0,1,2,3,4,5,7,8,9,10,11]].values\n",
    "y = sample_dataframe.iloc[:, 6].values\n",
    "\n",
    "y"
   ]
  },
  {
   "cell_type": "code",
   "execution_count": 16,
   "metadata": {
    "_cell_guid": "26b616c8-581d-4f42-a85d-35b9603916a9",
    "_execution_state": "idle",
    "_uuid": "956c89de172642f6faf5447cf77d3bad52330640"
   },
   "outputs": [],
   "source": [
    "# Splitting the dataset into the Training set and Test set\n",
    "\n",
    "from sklearn.model_selection import train_test_split\n",
    "X_train, X_test, y_train, y_test = train_test_split(X, y, test_size=0.3, random_state=42)\n",
    "#X_test, X_val, y_test, y_val = train_test_split(X_test, y_test, test_size=0.5, random_state=1)\n",
    "\n",
    "counts = np.unique(y_train, return_counts=True)\n"
   ]
  },
  {
   "cell_type": "code",
   "execution_count": 17,
   "metadata": {
    "_cell_guid": "8bbcd455-4663-42f9-b9f2-874163a6a46b",
    "_execution_state": "idle",
    "_uuid": "d06cf50d7c1d84f02862472b9d7332b6cc8a5c4d"
   },
   "outputs": [
    {
     "name": "stdout",
     "output_type": "stream",
     "text": [
      "(array([0, 1]), array([69899,   101]))\n"
     ]
    }
   ],
   "source": [
    "# Feature Scaling\n",
    "import pickle\n",
    "from sklearn.preprocessing import StandardScaler\n",
    "sc = StandardScaler()\n",
    "X_train = sc.fit_transform(X_train)\n",
    "pickle.dump(sc, open('./'+'scaler.pkl', 'wb'))\n",
    "#X_val = sc.transform(X_val)\n",
    "X_test = sc.transform(X_test)\n",
    "print(counts)"
   ]
  },
  {
   "cell_type": "markdown",
   "metadata": {
    "_cell_guid": "1efea1d3-7380-42f6-bc17-6c570165e6dd",
    "_execution_state": "idle",
    "_uuid": "4eaf536d6c13db62b02f4a262c584dd66007f535"
   },
   "source": [
    "Linear Kernel SVM = AUC 0.96"
   ]
  },
  {
   "cell_type": "code",
   "execution_count": 18,
   "metadata": {
    "_cell_guid": "a99764c1-d1fd-4cdd-b6e6-4243aaa2c107",
    "_execution_state": "idle",
    "_uuid": "d2218b16092be75f628c85ee479d85c9c693a1a4"
   },
   "outputs": [],
   "source": [
    "from sklearn.linear_model import LogisticRegression\n",
    "from sklearn.neighbors import KNeighborsClassifier\n",
    "from sklearn.svm import SVC\n",
    "from sklearn.naive_bayes import GaussianNB\n",
    "from sklearn.tree import DecisionTreeClassifier\n",
    "from sklearn.ensemble import RandomForestClassifier\n",
    "from sklearn.ensemble import BaggingClassifier\n",
    "from sklearn.ensemble import AdaBoostClassifier\n",
    "from sklearn.ensemble import GradientBoostingClassifier\n",
    "from sklearn.metrics import classification_report\n",
    "from sklearn.metrics import confusion_matrix\n",
    "from sklearn.model_selection import KFold\n",
    "from sklearn.model_selection import GridSearchCV"
   ]
  },
  {
   "cell_type": "code",
   "execution_count": 19,
   "metadata": {},
   "outputs": [],
   "source": [
    "lr = LogisticRegression()\n",
    "knn = KNeighborsClassifier()\n",
    "svc = SVC()\n",
    "nb = GaussianNB()\n",
    "dtc = DecisionTreeClassifier()\n",
    "rfc = RandomForestClassifier()\n",
    "bc = BaggingClassifier()\n",
    "abc = AdaBoostClassifier()\n",
    "gbc = GradientBoostingClassifier()"
   ]
  },
  {
   "cell_type": "code",
   "execution_count": 20,
   "metadata": {},
   "outputs": [
    {
     "data": {
      "text/plain": [
       "70000"
      ]
     },
     "execution_count": 20,
     "metadata": {},
     "output_type": "execute_result"
    }
   ],
   "source": [
    "len(X_train)"
   ]
  },
  {
   "cell_type": "code",
   "execution_count": 21,
   "metadata": {},
   "outputs": [],
   "source": [
    "import pickle\n",
    "def trainFitTest(model,space):\n",
    "    ##models = [lr,knn,svc,nb,dtc,rfc,bc,abc,gbc]\n",
    "    score = []\n",
    "    ##for model in models:\n",
    "    #model.fit(X_train,Y_train)\n",
    "    cv_inner = KFold(n_splits=10, shuffle=True, random_state=42)\n",
    "    search = GridSearchCV(model, space, scoring='accuracy', cv=cv_inner, refit=True)\n",
    "    #print(type(search))\n",
    "    result = search.fit(X_train, y_train)#training the model\n",
    "    # get the best performing model fit on the whole training set\n",
    "    best_model = result.best_estimator_\n",
    "    pickle.dump(best_model, open('./'+str(model)+'_best_model.pkl', 'wb'))\n",
    "    print('training score',best_model.score(X_train,y_train))\n",
    "    print('prediction score - ',best_model.score(X_test,y_test))\n",
    "    score.append(best_model.score(X_test,y_test))\n",
    "    Y_rfc_pred = best_model.predict(X_test)\n",
    "    print(Y_rfc_pred)\n",
    "    print(classification_report(y_test,Y_rfc_pred))\n",
    "    print(confusion_matrix(y_test,Y_rfc_pred))"
   ]
  },
  {
   "cell_type": "code",
   "execution_count": 22,
   "metadata": {},
   "outputs": [
    {
     "name": "stdout",
     "output_type": "stream",
     "text": [
      "training score 0.9988714285714285\n",
      "prediction score -  0.9989666666666667\n",
      "[0 0 0 ... 0 0 0]\n",
      "              precision    recall  f1-score   support\n",
      "\n",
      "           0       1.00      1.00      1.00     29960\n",
      "           1       1.00      0.23      0.37        40\n",
      "\n",
      "    accuracy                           1.00     30000\n",
      "   macro avg       1.00      0.61      0.68     30000\n",
      "weighted avg       1.00      1.00      1.00     30000\n",
      "\n",
      "[[29960     0]\n",
      " [   31     9]]\n"
     ]
    }
   ],
   "source": [
    "space = dict()\n",
    "space['n_jobs']=[1,2,5]\n",
    "trainFitTest(lr,space)"
   ]
  },
  {
   "cell_type": "code",
   "execution_count": 23,
   "metadata": {},
   "outputs": [],
   "source": [
    "#trainFitTest(knn)"
   ]
  },
  {
   "cell_type": "code",
   "execution_count": 24,
   "metadata": {
    "scrolled": true
   },
   "outputs": [
    {
     "name": "stdout",
     "output_type": "stream",
     "text": [
      "training score 0.9994571428571428\n",
      "prediction score -  0.9992\n",
      "[0 0 0 ... 0 0 0]\n",
      "              precision    recall  f1-score   support\n",
      "\n",
      "           0       1.00      1.00      1.00     29960\n",
      "           1       0.75      0.60      0.67        40\n",
      "\n",
      "    accuracy                           1.00     30000\n",
      "   macro avg       0.87      0.80      0.83     30000\n",
      "weighted avg       1.00      1.00      1.00     30000\n",
      "\n",
      "[[29952     8]\n",
      " [   16    24]]\n"
     ]
    }
   ],
   "source": [
    "space=dict()\n",
    "space['max_leaf_nodes'] = [10, 25, 500]\n",
    "space['max_features'] = [2, 4, 6]\n",
    "trainFitTest(dtc,space)"
   ]
  },
  {
   "cell_type": "code",
   "execution_count": 25,
   "metadata": {},
   "outputs": [],
   "source": [
    "#trainFitTest(nb)\n"
   ]
  },
  {
   "cell_type": "code",
   "execution_count": 26,
   "metadata": {},
   "outputs": [
    {
     "name": "stdout",
     "output_type": "stream",
     "text": [
      "training score 1.0\n",
      "prediction score -  0.9996333333333334\n",
      "[0 0 0 ... 0 0 0]\n",
      "              precision    recall  f1-score   support\n",
      "\n",
      "           0       1.00      1.00      1.00     29960\n",
      "           1       1.00      0.72      0.84        40\n",
      "\n",
      "    accuracy                           1.00     30000\n",
      "   macro avg       1.00      0.86      0.92     30000\n",
      "weighted avg       1.00      1.00      1.00     30000\n",
      "\n",
      "[[29960     0]\n",
      " [   11    29]]\n"
     ]
    }
   ],
   "source": [
    "space=dict()\n",
    "space['max_leaf_nodes'] = [10, 25, 500]\n",
    "space['max_features'] = [2, 4, 6]\n",
    "trainFitTest(rfc,space)"
   ]
  },
  {
   "cell_type": "code",
   "execution_count": 27,
   "metadata": {},
   "outputs": [],
   "source": [
    "#trainFitTest(abc)\n"
   ]
  },
  {
   "cell_type": "code",
   "execution_count": 28,
   "metadata": {},
   "outputs": [
    {
     "name": "stdout",
     "output_type": "stream",
     "text": [
      "training score 0.9992714285714286\n",
      "prediction score -  0.9991333333333333\n",
      "[0 0 0 ... 0 0 0]\n",
      "              precision    recall  f1-score   support\n",
      "\n",
      "           0       1.00      1.00      1.00     29960\n",
      "           1       0.77      0.50      0.61        40\n",
      "\n",
      "    accuracy                           1.00     30000\n",
      "   macro avg       0.88      0.75      0.80     30000\n",
      "weighted avg       1.00      1.00      1.00     30000\n",
      "\n",
      "[[29954     6]\n",
      " [   20    20]]\n"
     ]
    }
   ],
   "source": [
    "\n",
    "space=dict()\n",
    "space['max_leaf_nodes'] = [10, 25, 500]\n",
    "space['max_features'] = [2, 4, 6]\n",
    "space['n_estimators']=[10,20,100]\n",
    "trainFitTest(gbc,space)"
   ]
  },
  {
   "cell_type": "code",
   "execution_count": 29,
   "metadata": {},
   "outputs": [],
   "source": [
    "pickle.dump(gbc, open('./'+'gbc.pkl', 'wb'))\n",
    "   "
   ]
  },
  {
   "cell_type": "code",
   "execution_count": 42,
   "metadata": {},
   "outputs": [
    {
     "data": {
      "text/plain": [
       "193.1"
      ]
     },
     "execution_count": 42,
     "metadata": {},
     "output_type": "execute_result"
    }
   ],
   "source": [
    "float('193.1')"
   ]
  },
  {
   "cell_type": "code",
   "execution_count": 59,
   "metadata": {},
   "outputs": [],
   "source": [
    "#unit testing\n",
    "rf=pickle.load(open('RandomForestClassifier()_best_model.pkl','rb'))\n",
    "values=[1,'PAYMENT',9839.64,703,19304,0,0]\n",
    "x_unit_test=pd.DataFrame([[1,'PAYMENT',9839.64,703,19304,0,0]],columns=['step', 'type', 'amount', 'oldbalanceOrg', 'newbalanceOrig',\n",
    "       'oldbalanceDest', 'newbalanceDest'])"
   ]
  },
  {
   "cell_type": "code",
   "execution_count": 60,
   "metadata": {},
   "outputs": [],
   "source": [
    "values=[1,'PAYMENT',9839.64,703,19304,0,0]"
   ]
  },
  {
   "cell_type": "code",
   "execution_count": 61,
   "metadata": {},
   "outputs": [
    {
     "data": {
      "text/html": [
       "<div>\n",
       "<style scoped>\n",
       "    .dataframe tbody tr th:only-of-type {\n",
       "        vertical-align: middle;\n",
       "    }\n",
       "\n",
       "    .dataframe tbody tr th {\n",
       "        vertical-align: top;\n",
       "    }\n",
       "\n",
       "    .dataframe thead th {\n",
       "        text-align: right;\n",
       "    }\n",
       "</style>\n",
       "<table border=\"1\" class=\"dataframe\">\n",
       "  <thead>\n",
       "    <tr style=\"text-align: right;\">\n",
       "      <th></th>\n",
       "      <th>step</th>\n",
       "      <th>type</th>\n",
       "      <th>amount</th>\n",
       "      <th>oldbalanceOrg</th>\n",
       "      <th>newbalanceOrig</th>\n",
       "      <th>oldbalanceDest</th>\n",
       "      <th>newbalanceDest</th>\n",
       "    </tr>\n",
       "  </thead>\n",
       "  <tbody>\n",
       "    <tr>\n",
       "      <th>0</th>\n",
       "      <td>1</td>\n",
       "      <td>PAYMENT</td>\n",
       "      <td>9839.64</td>\n",
       "      <td>703</td>\n",
       "      <td>19304</td>\n",
       "      <td>0</td>\n",
       "      <td>0</td>\n",
       "    </tr>\n",
       "  </tbody>\n",
       "</table>\n",
       "</div>"
      ],
      "text/plain": [
       "   step     type   amount  oldbalanceOrg  newbalanceOrig  oldbalanceDest  \\\n",
       "0     1  PAYMENT  9839.64            703           19304               0   \n",
       "\n",
       "   newbalanceDest  \n",
       "0               0  "
      ]
     },
     "execution_count": 61,
     "metadata": {},
     "output_type": "execute_result"
    }
   ],
   "source": [
    "#values=np.array(values[1])\n",
    "x_unit_test\n",
    "\n",
    "#for each_categorical_value in X['type'].unique():\n",
    "#    X[each_categorical_value] = pd.get_dummies(X['type'])[each_categorical_value]"
   ]
  },
  {
   "cell_type": "code",
   "execution_count": 62,
   "metadata": {},
   "outputs": [
    {
     "data": {
      "text/html": [
       "<div>\n",
       "<style scoped>\n",
       "    .dataframe tbody tr th:only-of-type {\n",
       "        vertical-align: middle;\n",
       "    }\n",
       "\n",
       "    .dataframe tbody tr th {\n",
       "        vertical-align: top;\n",
       "    }\n",
       "\n",
       "    .dataframe thead th {\n",
       "        text-align: right;\n",
       "    }\n",
       "</style>\n",
       "<table border=\"1\" class=\"dataframe\">\n",
       "  <thead>\n",
       "    <tr style=\"text-align: right;\">\n",
       "      <th></th>\n",
       "      <th>step</th>\n",
       "      <th>type</th>\n",
       "      <th>amount</th>\n",
       "      <th>oldbalanceOrg</th>\n",
       "      <th>newbalanceOrig</th>\n",
       "      <th>oldbalanceDest</th>\n",
       "      <th>newbalanceDest</th>\n",
       "    </tr>\n",
       "  </thead>\n",
       "  <tbody>\n",
       "    <tr>\n",
       "      <th>0</th>\n",
       "      <td>1</td>\n",
       "      <td>PAYMENT</td>\n",
       "      <td>9839.64</td>\n",
       "      <td>703</td>\n",
       "      <td>19304</td>\n",
       "      <td>0</td>\n",
       "      <td>0</td>\n",
       "    </tr>\n",
       "  </tbody>\n",
       "</table>\n",
       "</div>"
      ],
      "text/plain": [
       "   step     type   amount  oldbalanceOrg  newbalanceOrig  oldbalanceDest  \\\n",
       "0     1  PAYMENT  9839.64            703           19304               0   \n",
       "\n",
       "   newbalanceDest  \n",
       "0               0  "
      ]
     },
     "execution_count": 62,
     "metadata": {},
     "output_type": "execute_result"
    }
   ],
   "source": [
    "x_unit_test"
   ]
  },
  {
   "cell_type": "code",
   "execution_count": 63,
   "metadata": {},
   "outputs": [],
   "source": [
    "unique_types=['CASH_IN', 'PAYMENT', 'TRANSFER', 'CASH_OUT', 'DEBIT']"
   ]
  },
  {
   "cell_type": "code",
   "execution_count": 64,
   "metadata": {},
   "outputs": [],
   "source": [
    "for each_categorical_value in unique_types:\n",
    "    #x_unit_test[each_categorical_value]=0\n",
    "    #print(each_categorical_value)\n",
    "    if(x_unit_test['type'][0]==each_categorical_value):\n",
    "        x_unit_test[each_categorical_value]=1\n",
    "    else:\n",
    "        x_unit_test[each_categorical_value]=0\n",
    "    #x_unit_test[each_categorical_value]=pd.get_dummies"
   ]
  },
  {
   "cell_type": "code",
   "execution_count": 65,
   "metadata": {},
   "outputs": [
    {
     "data": {
      "text/plain": [
       "Index(['step', 'type', 'amount', 'oldbalanceOrg', 'newbalanceOrig',\n",
       "       'oldbalanceDest', 'newbalanceDest', 'CASH_IN', 'PAYMENT', 'TRANSFER',\n",
       "       'CASH_OUT', 'DEBIT'],\n",
       "      dtype='object')"
      ]
     },
     "execution_count": 65,
     "metadata": {},
     "output_type": "execute_result"
    }
   ],
   "source": [
    "x_unit_test.columns"
   ]
  },
  {
   "cell_type": "code",
   "execution_count": 66,
   "metadata": {},
   "outputs": [],
   "source": [
    "x_unit_test=x_unit_test[['step', 'type', 'amount', 'oldbalanceOrg', 'newbalanceOrig',\n",
    "       'oldbalanceDest', 'newbalanceDest','CASH_IN','PAYMENT', 'TRANSFER', 'CASH_OUT',\n",
    "       'DEBIT']]"
   ]
  },
  {
   "cell_type": "code",
   "execution_count": 67,
   "metadata": {},
   "outputs": [],
   "source": [
    "#x_unit_test[x_unit_test['type'][0]]=pd.get_dummies(x_unit_test['type'])[x_unit_test['type'][0]]"
   ]
  },
  {
   "cell_type": "code",
   "execution_count": 68,
   "metadata": {},
   "outputs": [],
   "source": [
    "x_unit_test.drop(columns=['type'],inplace=True)"
   ]
  },
  {
   "cell_type": "code",
   "execution_count": 69,
   "metadata": {},
   "outputs": [],
   "source": [
    "#x_unit_test.columns=xcopy.columns"
   ]
  },
  {
   "cell_type": "code",
   "execution_count": 70,
   "metadata": {},
   "outputs": [],
   "source": [
    "sc=pickle.load(open('scaler.pkl','rb'))\n",
    "x_unit_test_scales=sc.transform(x_unit_test)"
   ]
  },
  {
   "cell_type": "code",
   "execution_count": 71,
   "metadata": {},
   "outputs": [
    {
     "data": {
      "text/plain": [
       "array([1])"
      ]
     },
     "execution_count": 71,
     "metadata": {},
     "output_type": "execute_result"
    }
   ],
   "source": [
    "rf=pickle.load(open('RandomForestClassifier()_best_model.pkl','rb'))\n",
    "rf.predict(x_unit_test_scales)"
   ]
  },
  {
   "cell_type": "code",
   "execution_count": 30,
   "metadata": {},
   "outputs": [],
   "source": [
    "import pymysql\n",
    "import mysql.connector\n",
    "from sqlalchemy import create_engine\n",
    "engine = create_engine(\"mysql+pymysql://\" + 'root' + \":\" + 'halifax2020' + \"@\" + \"localhost\" + \"/\" + \"traice2\")"
   ]
  },
  {
   "cell_type": "code",
   "execution_count": 31,
   "metadata": {},
   "outputs": [],
   "source": [
    "dataset = pd.read_csv('/Users/fabianreginold/Downloads/traice/traice_moneylaundering/PS_20174392719_1491204439457_log.csv')"
   ]
  },
  {
   "cell_type": "code",
   "execution_count": 32,
   "metadata": {},
   "outputs": [],
   "source": [
    "dataset.to_sql('aml', con = engine, if_exists = 'replace',index = False, chunksize = 1000)"
   ]
  },
  {
   "cell_type": "code",
   "execution_count": 33,
   "metadata": {},
   "outputs": [
    {
     "data": {
      "text/html": [
       "<div>\n",
       "<style scoped>\n",
       "    .dataframe tbody tr th:only-of-type {\n",
       "        vertical-align: middle;\n",
       "    }\n",
       "\n",
       "    .dataframe tbody tr th {\n",
       "        vertical-align: top;\n",
       "    }\n",
       "\n",
       "    .dataframe thead th {\n",
       "        text-align: right;\n",
       "    }\n",
       "</style>\n",
       "<table border=\"1\" class=\"dataframe\">\n",
       "  <thead>\n",
       "    <tr style=\"text-align: right;\">\n",
       "      <th></th>\n",
       "      <th>step</th>\n",
       "      <th>type</th>\n",
       "      <th>amount</th>\n",
       "      <th>nameOrig</th>\n",
       "      <th>oldbalanceOrg</th>\n",
       "      <th>newbalanceOrig</th>\n",
       "      <th>nameDest</th>\n",
       "      <th>oldbalanceDest</th>\n",
       "      <th>newbalanceDest</th>\n",
       "      <th>isFraud</th>\n",
       "      <th>isFlaggedFraud</th>\n",
       "    </tr>\n",
       "  </thead>\n",
       "  <tbody>\n",
       "    <tr>\n",
       "      <th>0</th>\n",
       "      <td>1</td>\n",
       "      <td>PAYMENT</td>\n",
       "      <td>9839.64</td>\n",
       "      <td>C1231006815</td>\n",
       "      <td>170136.0</td>\n",
       "      <td>160296.36</td>\n",
       "      <td>M1979787155</td>\n",
       "      <td>0.0</td>\n",
       "      <td>0.0</td>\n",
       "      <td>0</td>\n",
       "      <td>0</td>\n",
       "    </tr>\n",
       "    <tr>\n",
       "      <th>1</th>\n",
       "      <td>1</td>\n",
       "      <td>PAYMENT</td>\n",
       "      <td>1864.28</td>\n",
       "      <td>C1666544295</td>\n",
       "      <td>21249.0</td>\n",
       "      <td>19384.72</td>\n",
       "      <td>M2044282225</td>\n",
       "      <td>0.0</td>\n",
       "      <td>0.0</td>\n",
       "      <td>0</td>\n",
       "      <td>0</td>\n",
       "    </tr>\n",
       "    <tr>\n",
       "      <th>2</th>\n",
       "      <td>1</td>\n",
       "      <td>TRANSFER</td>\n",
       "      <td>181.00</td>\n",
       "      <td>C1305486145</td>\n",
       "      <td>181.0</td>\n",
       "      <td>0.00</td>\n",
       "      <td>C553264065</td>\n",
       "      <td>0.0</td>\n",
       "      <td>0.0</td>\n",
       "      <td>1</td>\n",
       "      <td>0</td>\n",
       "    </tr>\n",
       "    <tr>\n",
       "      <th>3</th>\n",
       "      <td>1</td>\n",
       "      <td>CASH_OUT</td>\n",
       "      <td>181.00</td>\n",
       "      <td>C840083671</td>\n",
       "      <td>181.0</td>\n",
       "      <td>0.00</td>\n",
       "      <td>C38997010</td>\n",
       "      <td>21182.0</td>\n",
       "      <td>0.0</td>\n",
       "      <td>1</td>\n",
       "      <td>0</td>\n",
       "    </tr>\n",
       "    <tr>\n",
       "      <th>4</th>\n",
       "      <td>1</td>\n",
       "      <td>PAYMENT</td>\n",
       "      <td>11668.14</td>\n",
       "      <td>C2048537720</td>\n",
       "      <td>41554.0</td>\n",
       "      <td>29885.86</td>\n",
       "      <td>M1230701703</td>\n",
       "      <td>0.0</td>\n",
       "      <td>0.0</td>\n",
       "      <td>0</td>\n",
       "      <td>0</td>\n",
       "    </tr>\n",
       "  </tbody>\n",
       "</table>\n",
       "</div>"
      ],
      "text/plain": [
       "   step      type    amount     nameOrig  oldbalanceOrg  newbalanceOrig  \\\n",
       "0     1   PAYMENT   9839.64  C1231006815       170136.0       160296.36   \n",
       "1     1   PAYMENT   1864.28  C1666544295        21249.0        19384.72   \n",
       "2     1  TRANSFER    181.00  C1305486145          181.0            0.00   \n",
       "3     1  CASH_OUT    181.00   C840083671          181.0            0.00   \n",
       "4     1   PAYMENT  11668.14  C2048537720        41554.0        29885.86   \n",
       "\n",
       "      nameDest  oldbalanceDest  newbalanceDest  isFraud  isFlaggedFraud  \n",
       "0  M1979787155             0.0             0.0        0               0  \n",
       "1  M2044282225             0.0             0.0        0               0  \n",
       "2   C553264065             0.0             0.0        1               0  \n",
       "3    C38997010         21182.0             0.0        1               0  \n",
       "4  M1230701703             0.0             0.0        0               0  "
      ]
     },
     "execution_count": 33,
     "metadata": {},
     "output_type": "execute_result"
    }
   ],
   "source": [
    "dataset.head()"
   ]
  },
  {
   "cell_type": "code",
   "execution_count": null,
   "metadata": {},
   "outputs": [],
   "source": []
  }
 ],
 "metadata": {
  "kernelspec": {
   "display_name": "Python 3",
   "language": "python",
   "name": "python3"
  },
  "language_info": {
   "codemirror_mode": {
    "name": "ipython",
    "version": 3
   },
   "file_extension": ".py",
   "mimetype": "text/x-python",
   "name": "python",
   "nbconvert_exporter": "python",
   "pygments_lexer": "ipython3",
   "version": "3.8.3"
  }
 },
 "nbformat": 4,
 "nbformat_minor": 1
}
